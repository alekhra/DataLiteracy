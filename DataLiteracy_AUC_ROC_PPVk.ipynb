{
  "nbformat": 4,
  "nbformat_minor": 0,
  "metadata": {
    "colab": {
      "name": "DataLiteracy_Sheet7_Q3.ipynb",
      "provenance": [],
      "include_colab_link": true
    },
    "kernelspec": {
      "name": "python3",
      "display_name": "Python 3"
    },
    "accelerator": "GPU"
  },
  "cells": [
    {
      "cell_type": "markdown",
      "metadata": {
        "id": "view-in-github",
        "colab_type": "text"
      },
      "source": [
        "<a href=\"https://colab.research.google.com/github/alekhra/DataLiteracy/blob/master/DataLiteracy_AUC_ROC_PPVk.ipynb\" target=\"_parent\"><img src=\"https://colab.research.google.com/assets/colab-badge.svg\" alt=\"Open In Colab\"/></a>"
      ]
    },
    {
      "cell_type": "code",
      "metadata": {
        "id": "LluHcGabE_Ct",
        "colab_type": "code",
        "colab": {}
      },
      "source": [
        "import random\n",
        "from scipy.stats import gamma\n",
        "import numpy as np\n",
        "import pandas as pd\n",
        "import matplotlib.pyplot as plt\n",
        "import numpy as np\n",
        "from sklearn import metrics"
      ],
      "execution_count": 0,
      "outputs": []
    },
    {
      "cell_type": "code",
      "metadata": {
        "id": "tNIHKCYrD1gb",
        "colab_type": "code",
        "colab": {}
      },
      "source": [
        "def zerolistmaker(n):\n",
        "    listofzeros = [0] * n\n",
        "    return listofzeros\n",
        "def oneslistmaker(n):\n",
        "    listofzeros = [1] * n\n",
        "    return listofzeros"
      ],
      "execution_count": 0,
      "outputs": []
    },
    {
      "cell_type": "code",
      "metadata": {
        "id": "Os-jgU89EB3d",
        "colab_type": "code",
        "colab": {}
      },
      "source": [
        "#taking zero as +ve class(criminals) and ones as -ve class(non-criminal)\n",
        "#making ground truth data\n",
        "zero = zerolistmaker(20)\n",
        "ones = oneslistmaker(2000)\n",
        "ground_truth = zero+ones\n",
        "#random.shuffle(ground_truth)"
      ],
      "execution_count": 0,
      "outputs": []
    },
    {
      "cell_type": "code",
      "metadata": {
        "id": "s6nCV7ckESSg",
        "colab_type": "code",
        "colab": {}
      },
      "source": [
        "#making our own score list of random \n",
        "scores_rand=list()\n",
        "scores_80=list()\n",
        "scores_100=list()\n",
        "scores_0=list()\n",
        "for i in range(2020):\n",
        "  #for 100% correctly classified case\n",
        "  if i >=0 and i<20:\n",
        "    scores_100.append(1.0)\n",
        "  else:\n",
        "    scores_100.append(random.random())\n",
        "  #for 80% correctly classified case #\n",
        "  if i>=0 and i<16:\n",
        "    scores_80.append(1.0)\n",
        "  if i>=16 and i <20:\n",
        "    scores_80.append(0.1)\n",
        "  else:\n",
        "    scores_80.append(random.random())\n",
        "  #for 0% correctly classified case\n",
        "  if i>=0 and i<20:\n",
        "    scores_0.append(0.0)\n",
        "  else:\n",
        "    scores_0.append(0.8)\n",
        "  #for random case#\n",
        "  scores_rand.append(random.random())"
      ],
      "execution_count": 0,
      "outputs": []
    },
    {
      "cell_type": "code",
      "metadata": {
        "id": "ogrxYWltGL6h",
        "colab_type": "code",
        "colab": {}
      },
      "source": [
        "#making complete dataset with id\n",
        "dataset = pd.DataFrame(columns = ['ID','Ground Truth', 'Score'])\n",
        "dataset['Ground Truth'] = ground_truth\n",
        "dataset['Score'] = scores_0\n",
        "dataset['ID'] = list(range(1,2021))"
      ],
      "execution_count": 0,
      "outputs": []
    },
    {
      "cell_type": "code",
      "metadata": {
        "id": "HzZJYwZFiI4n",
        "colab_type": "code",
        "colab": {
          "base_uri": "https://localhost:8080/",
          "height": 407
        },
        "outputId": "e16c0076-ec74-4826-9318-dd1277dc6d51"
      },
      "source": [
        "dataset"
      ],
      "execution_count": 6,
      "outputs": [
        {
          "output_type": "execute_result",
          "data": {
            "text/html": [
              "<div>\n",
              "<style scoped>\n",
              "    .dataframe tbody tr th:only-of-type {\n",
              "        vertical-align: middle;\n",
              "    }\n",
              "\n",
              "    .dataframe tbody tr th {\n",
              "        vertical-align: top;\n",
              "    }\n",
              "\n",
              "    .dataframe thead th {\n",
              "        text-align: right;\n",
              "    }\n",
              "</style>\n",
              "<table border=\"1\" class=\"dataframe\">\n",
              "  <thead>\n",
              "    <tr style=\"text-align: right;\">\n",
              "      <th></th>\n",
              "      <th>ID</th>\n",
              "      <th>Ground Truth</th>\n",
              "      <th>Score</th>\n",
              "    </tr>\n",
              "  </thead>\n",
              "  <tbody>\n",
              "    <tr>\n",
              "      <th>0</th>\n",
              "      <td>1</td>\n",
              "      <td>0</td>\n",
              "      <td>0.0</td>\n",
              "    </tr>\n",
              "    <tr>\n",
              "      <th>1</th>\n",
              "      <td>2</td>\n",
              "      <td>0</td>\n",
              "      <td>0.0</td>\n",
              "    </tr>\n",
              "    <tr>\n",
              "      <th>2</th>\n",
              "      <td>3</td>\n",
              "      <td>0</td>\n",
              "      <td>0.0</td>\n",
              "    </tr>\n",
              "    <tr>\n",
              "      <th>3</th>\n",
              "      <td>4</td>\n",
              "      <td>0</td>\n",
              "      <td>0.0</td>\n",
              "    </tr>\n",
              "    <tr>\n",
              "      <th>4</th>\n",
              "      <td>5</td>\n",
              "      <td>0</td>\n",
              "      <td>0.0</td>\n",
              "    </tr>\n",
              "    <tr>\n",
              "      <th>...</th>\n",
              "      <td>...</td>\n",
              "      <td>...</td>\n",
              "      <td>...</td>\n",
              "    </tr>\n",
              "    <tr>\n",
              "      <th>2015</th>\n",
              "      <td>2016</td>\n",
              "      <td>1</td>\n",
              "      <td>0.8</td>\n",
              "    </tr>\n",
              "    <tr>\n",
              "      <th>2016</th>\n",
              "      <td>2017</td>\n",
              "      <td>1</td>\n",
              "      <td>0.8</td>\n",
              "    </tr>\n",
              "    <tr>\n",
              "      <th>2017</th>\n",
              "      <td>2018</td>\n",
              "      <td>1</td>\n",
              "      <td>0.8</td>\n",
              "    </tr>\n",
              "    <tr>\n",
              "      <th>2018</th>\n",
              "      <td>2019</td>\n",
              "      <td>1</td>\n",
              "      <td>0.8</td>\n",
              "    </tr>\n",
              "    <tr>\n",
              "      <th>2019</th>\n",
              "      <td>2020</td>\n",
              "      <td>1</td>\n",
              "      <td>0.8</td>\n",
              "    </tr>\n",
              "  </tbody>\n",
              "</table>\n",
              "<p>2020 rows × 3 columns</p>\n",
              "</div>"
            ],
            "text/plain": [
              "        ID  Ground Truth  Score\n",
              "0        1             0    0.0\n",
              "1        2             0    0.0\n",
              "2        3             0    0.0\n",
              "3        4             0    0.0\n",
              "4        5             0    0.0\n",
              "...    ...           ...    ...\n",
              "2015  2016             1    0.8\n",
              "2016  2017             1    0.8\n",
              "2017  2018             1    0.8\n",
              "2018  2019             1    0.8\n",
              "2019  2020             1    0.8\n",
              "\n",
              "[2020 rows x 3 columns]"
            ]
          },
          "metadata": {
            "tags": []
          },
          "execution_count": 6
        }
      ]
    },
    {
      "cell_type": "code",
      "metadata": {
        "id": "pBkzLTVylwcP",
        "colab_type": "code",
        "colab": {}
      },
      "source": [
        "#making threshold's data for both ROC and PPVk\n",
        "#threshold_roc = dataset['Score']\n",
        "\n",
        "threshold_roc = list(range(0,11))\n",
        "threshold_roc = [i * 0.1 for i in threshold_roc]\n",
        "threshold_ppvk = list(range(1,2021))"
      ],
      "execution_count": 0,
      "outputs": []
    },
    {
      "cell_type": "code",
      "metadata": {
        "id": "PXUoYCBcPsz3",
        "colab_type": "code",
        "colab": {
          "base_uri": "https://localhost:8080/",
          "height": 207
        },
        "outputId": "f1bcf532-7c44-44fe-ed62-0f19bbdef2d7"
      },
      "source": [
        "threshold_roc"
      ],
      "execution_count": 8,
      "outputs": [
        {
          "output_type": "execute_result",
          "data": {
            "text/plain": [
              "[0.0,\n",
              " 0.1,\n",
              " 0.2,\n",
              " 0.30000000000000004,\n",
              " 0.4,\n",
              " 0.5,\n",
              " 0.6000000000000001,\n",
              " 0.7000000000000001,\n",
              " 0.8,\n",
              " 0.9,\n",
              " 1.0]"
            ]
          },
          "metadata": {
            "tags": []
          },
          "execution_count": 8
        }
      ]
    },
    {
      "cell_type": "code",
      "metadata": {
        "id": "Vyygp0jYKa-7",
        "colab_type": "code",
        "colab": {}
      },
      "source": [
        "'''\n",
        "here we do calculations for plotting ROC,\n",
        "calculating TPR and FPR\n",
        "'''\n",
        "#we already has this info\n",
        "Npositive = 20\n",
        "Nnegative = 2000\n",
        "tprlist = list()\n",
        "fprlist = list()\n",
        "#loop to calculate TPR and FPR\n",
        "for i in range(len(threshold_roc)):\n",
        "  tpr=0#setting counters to 0 for every new threshold\n",
        "  fpr=0\n",
        "  thres = threshold_roc[i]\n",
        "  for id, row in dataset.iterrows():\n",
        "    #if thres>0.0:\n",
        "      if row['Score'] >= thres and row['Ground Truth']==0:\n",
        "        tpr+=1\n",
        "      if row['Score'] >= thres and row['Ground Truth']==1:\n",
        "        fpr+=1\n",
        "  tprlist.append(tpr/Npositive)#calculating tpr values and saving them in list\n",
        "  fprlist.append(fpr/Nnegative)#calculating fpr values and saving them in list\n",
        "\n",
        "\n",
        "\n",
        "\n",
        "\n",
        "\n"
      ],
      "execution_count": 0,
      "outputs": []
    },
    {
      "cell_type": "code",
      "metadata": {
        "id": "Y8hSrdFoKKl8",
        "colab_type": "code",
        "colab": {
          "base_uri": "https://localhost:8080/",
          "height": 279
        },
        "outputId": "2c1da65b-a42e-4a3c-c244-49eb27c84f21"
      },
      "source": [
        "plt.plot(threshold_roc,tprlist,'-')\n",
        "plt.xlabel('Threshold')\n",
        "plt.ylabel('TPR')\n",
        "plt.show()"
      ],
      "execution_count": 10,
      "outputs": [
        {
          "output_type": "display_data",
          "data": {
            "image/png": "[encoded data removed]",
            "text/plain": [
              "<Figure size 432x288 with 1 Axes>"
            ]
          },
          "metadata": {
            "tags": []
          }
        }
      ]
    },
    {
      "cell_type": "code",
      "metadata": {
        "id": "EUNH1HVy-Gi3",
        "colab_type": "code",
        "colab": {
          "base_uri": "https://localhost:8080/",
          "height": 207
        },
        "outputId": "8f93036d-5766-4eca-a941-a9bb8039aa9c"
      },
      "source": [
        "threshold_roc"
      ],
      "execution_count": 11,
      "outputs": [
        {
          "output_type": "execute_result",
          "data": {
            "text/plain": [
              "[0.0,\n",
              " 0.1,\n",
              " 0.2,\n",
              " 0.30000000000000004,\n",
              " 0.4,\n",
              " 0.5,\n",
              " 0.6000000000000001,\n",
              " 0.7000000000000001,\n",
              " 0.8,\n",
              " 0.9,\n",
              " 1.0]"
            ]
          },
          "metadata": {
            "tags": []
          },
          "execution_count": 11
        }
      ]
    },
    {
      "cell_type": "code",
      "metadata": {
        "id": "xRcUxSwNCaVr",
        "colab_type": "code",
        "colab": {
          "base_uri": "https://localhost:8080/",
          "height": 279
        },
        "outputId": "d3821ea4-6d46-47d4-b3ab-ab030b312dc0"
      },
      "source": [
        "#plotting ROC\n",
        "plt.plot(fprlist,tprlist,'-')\n",
        "plt.xlabel('FPR')\n",
        "plt.ylabel('TPR')\n",
        "x=list({0.0,0.3,0.6,0.9,1.0})\n",
        "plt.plot(x,x,'-')\n",
        "plt.show()"
      ],
      "execution_count": 12,
      "outputs": [
        {
          "output_type": "display_data",
          "data": {
            "image/png": "[encoded data removed]",
            "text/plain": [
              "<Figure size 432x288 with 1 Axes>"
            ]
          },
          "metadata": {
            "tags": []
          }
        }
      ]
    },
    {
      "cell_type": "code",
      "metadata": {
        "id": "YEe8scy3m8zD",
        "colab_type": "code",
        "colab": {
          "base_uri": "https://localhost:8080/",
          "height": 55
        },
        "outputId": "570dc23d-08fa-4504-e5ab-bda17cf24096"
      },
      "source": [
        "'''\n",
        "calculate AUC\n",
        "'''\n",
        "'''\n",
        "itr=0\n",
        "for k in range(len(dataset)-2):#doing -2 instead of -1 because k starts from 0 and not from 1\n",
        "  for i in range(k+1,len(dataset)-1):#doing -1 instead of length i.e n because indexing of dataset is from 0 to n-1\n",
        "    if dataset['Ground Truth'][k] < dataset['Ground Truth'][i]:\n",
        "      itr+=1\n",
        "  #print(itr)\n",
        "auc = itr/(20*2000)\n",
        "print(auc)\n",
        "'''"
      ],
      "execution_count": 13,
      "outputs": [
        {
          "output_type": "execute_result",
          "data": {
            "text/plain": [
              "\"\\nitr=0\\nfor k in range(len(dataset)-2):#doing -2 instead of -1 because k starts from 0 and not from 1\\n  for i in range(k+1,len(dataset)-1):#doing -1 instead of length i.e n because indexing of dataset is from 0 to n-1\\n    if dataset['Ground Truth'][k] < dataset['Ground Truth'][i]:\\n      itr+=1\\n  #print(itr)\\nauc = itr/(20*2000)\\nprint(auc)\\n\""
            ]
          },
          "metadata": {
            "tags": []
          },
          "execution_count": 13
        }
      ]
    },
    {
      "cell_type": "code",
      "metadata": {
        "id": "zVhXEdYwpxh1",
        "colab_type": "code",
        "colab": {
          "base_uri": "https://localhost:8080/",
          "height": 35
        },
        "outputId": "df4654ee-6d3c-473d-ac2c-fd8a52923b25"
      },
      "source": [
        "'''\n",
        "calculate AUC\n",
        "'''\n",
        "itr=0\n",
        "for i in range(len(tprlist)-2):\n",
        "  itr = itr + ((tprlist[i]+tprlist[i+1])/2)*(fprlist[i]-fprlist[i+1])\n",
        "print(itr)"
      ],
      "execution_count": 14,
      "outputs": [
        {
          "output_type": "stream",
          "text": [
            "0.0\n"
          ],
          "name": "stdout"
        }
      ]
    },
    {
      "cell_type": "code",
      "metadata": {
        "id": "ktJ0RW9wK7Py",
        "colab_type": "code",
        "colab": {}
      },
      "source": [
        "'''\n",
        "here we do calculations for plotting PPVk,\n",
        "'''\n",
        "ppvk = list()\n",
        "thres_list = list()\n",
        "k_list = list()\n",
        "dec_score_dataframe = dataset.sort_values(by=['Score'], ascending=False)#Sorting data in decending order according to their score\n",
        "dec_score_dataframe = dec_score_dataframe.reset_index()\n",
        "for k in range(len(dec_score_dataframe)-1):\n",
        "  tp=0\n",
        "  topK_thres =dec_score_dataframe[:k+1]#taking top k subset based on scores, but using k+1 as indexing is from 0\n",
        "  topK_thres=topK_thres.reset_index()\n",
        "  thres=topK_thres['Score'][len(topK_thres)-1]#last elements score\n",
        "  #print(k)\n",
        "  for i in range(len(topK_thres)-1):\n",
        "    if topK_thres['Score'][i]>=thres and topK_thres['Ground Truth'][i] ==0:\n",
        "      tp+=1\n",
        "  ppvk.append(tp/(k+1))#calculating PPVk = tp/k values and saving them in list\n",
        "  thres_list.append(thres)\n",
        "  k_list.append(len(topK_thres))\n"
      ],
      "execution_count": 0,
      "outputs": []
    },
    {
      "cell_type": "code",
      "metadata": {
        "id": "N4KLG4HwSQ4B",
        "colab_type": "code",
        "colab": {
          "base_uri": "https://localhost:8080/",
          "height": 279
        },
        "outputId": "b1439bfe-47a4-4b9a-bcfb-b1b813f88316"
      },
      "source": [
        "#plotting PPVk vs Threshold\n",
        "plt.plot(thres_list,ppvk,'-')\n",
        "plt.xlabel('Thresholds')\n",
        "plt.ylabel('PPVk-values')\n",
        "plt.show()"
      ],
      "execution_count": 16,
      "outputs": [
        {
          "output_type": "display_data",
          "data": {
            "image/png": "[encoded data removed]",
            "text/plain": [
              "<Figure size 432x288 with 1 Axes>"
            ]
          },
          "metadata": {
            "tags": []
          }
        }
      ]
    },
    {
      "cell_type": "code",
      "metadata": {
        "id": "CROcbtprZeH_",
        "colab_type": "code",
        "colab": {
          "base_uri": "https://localhost:8080/",
          "height": 35
        },
        "outputId": "e6220f06-200b-4b3e-8ecd-f64321492510"
      },
      "source": [
        "max(ppvk)"
      ],
      "execution_count": 17,
      "outputs": [
        {
          "output_type": "execute_result",
          "data": {
            "text/plain": [
              "0.008915304606240713"
            ]
          },
          "metadata": {
            "tags": []
          },
          "execution_count": 17
        }
      ]
    },
    {
      "cell_type": "code",
      "metadata": {
        "id": "ezL6Tzg0tUx4",
        "colab_type": "code",
        "colab": {
          "base_uri": "https://localhost:8080/",
          "height": 279
        },
        "outputId": "1a1829f2-e06b-4853-b679-585140b7d0d3"
      },
      "source": [
        "#plotting PPVk vs topk\n",
        "plt.plot(k_list,ppvk,'-')\n",
        "plt.xlabel('TopK')\n",
        "plt.ylabel('PPVk-values')\n",
        "plt.show()"
      ],
      "execution_count": 18,
      "outputs": [
        {
          "output_type": "display_data",
          "data": {
            "image/png": "[encoded data removed]",
            "text/plain": [
              "<Figure size 432x288 with 1 Axes>"
            ]
          },
          "metadata": {
            "tags": []
          }
        }
      ]
    }
  ]
}